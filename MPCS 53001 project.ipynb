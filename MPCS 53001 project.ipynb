{
 "cells": [
  {
   "cell_type": "code",
   "execution_count": 1,
   "metadata": {},
   "outputs": [],
   "source": [
    "import json\n",
    "data = json.load(open(\"hetionet-v1.0.json\"))"
   ]
  },
  {
   "cell_type": "code",
   "execution_count": 2,
   "metadata": {},
   "outputs": [],
   "source": [
    "nodes = data['nodes']\n",
    "edges = data['edges']\n",
    "node_type = data['metanode_kinds']\n",
    "edge_type = data['metaedge_tuples']"
   ]
  },
  {
   "cell_type": "code",
   "execution_count": 21,
   "metadata": {},
   "outputs": [
    {
     "data": {
      "text/plain": [
       "[['Anatomy', 'Gene', 'downregulates', 'both'],\n",
       " ['Anatomy', 'Gene', 'expresses', 'both'],\n",
       " ['Anatomy', 'Gene', 'upregulates', 'both'],\n",
       " ['Compound', 'Compound', 'resembles', 'both'],\n",
       " ['Compound', 'Disease', 'palliates', 'both'],\n",
       " ['Compound', 'Disease', 'treats', 'both'],\n",
       " ['Compound', 'Gene', 'binds', 'both'],\n",
       " ['Compound', 'Gene', 'downregulates', 'both'],\n",
       " ['Compound', 'Gene', 'upregulates', 'both'],\n",
       " ['Compound', 'Side Effect', 'causes', 'both'],\n",
       " ['Disease', 'Anatomy', 'localizes', 'both'],\n",
       " ['Disease', 'Disease', 'resembles', 'both'],\n",
       " ['Disease', 'Gene', 'associates', 'both'],\n",
       " ['Disease', 'Gene', 'downregulates', 'both'],\n",
       " ['Disease', 'Gene', 'upregulates', 'both'],\n",
       " ['Disease', 'Symptom', 'presents', 'both'],\n",
       " ['Gene', 'Biological Process', 'participates', 'both'],\n",
       " ['Gene', 'Cellular Component', 'participates', 'both'],\n",
       " ['Gene', 'Gene', 'covaries', 'both'],\n",
       " ['Gene', 'Gene', 'interacts', 'both'],\n",
       " ['Gene', 'Gene', 'regulates', 'forward'],\n",
       " ['Gene', 'Molecular Function', 'participates', 'both'],\n",
       " ['Gene', 'Pathway', 'participates', 'both'],\n",
       " ['Pharmacologic Class', 'Compound', 'includes', 'both']]"
      ]
     },
     "execution_count": 21,
     "metadata": {},
     "output_type": "execute_result"
    }
   ],
   "source": [
    "edge_type"
   ]
  },
  {
   "cell_type": "code",
   "execution_count": 16,
   "metadata": {},
   "outputs": [
    {
     "name": "stdout",
     "output_type": "stream",
     "text": [
      "Example of Anatomy: {'kind': 'Anatomy', 'identifier': 'UBERON:0001533', 'name': 'subclavian artery', 'data': {'source': 'Uberon', 'license': 'CC BY 3.0', 'url': 'http://purl.obolibrary.org/obo/UBERON_0001533', 'mesh_id': 'D013348'}}\n",
      "There are 402 Anatomy\n",
      "Example of Biological Process: {'kind': 'Biological Process', 'identifier': 'GO:0032474', 'name': 'otolith morphogenesis', 'data': {'source': 'Gene Ontology', 'license': 'CC BY 4.0', 'url': 'http://purl.obolibrary.org/obo/GO_0032474'}}\n",
      "There are 11381 Biological Process\n",
      "Example of Cellular Component: {'kind': 'Cellular Component', 'identifier': 'GO:0000784', 'name': 'nuclear chromosome, telomeric region', 'data': {'source': 'Gene Ontology', 'license': 'CC BY 4.0', 'url': 'http://purl.obolibrary.org/obo/GO_0000784'}}\n",
      "There are 1391 Cellular Component\n",
      "Example of Compound: {'kind': 'Compound', 'identifier': 'DB00201', 'name': 'Caffeine', 'data': {'license': 'CC BY-NC 4.0', 'source': 'DrugBank', 'inchikey': 'InChIKey=RYYVLZVUVIJVGH-UHFFFAOYSA-N', 'inchi': 'InChI=1S/C8H10N4O2/c1-10-4-9-6-5(10)7(13)12(3)8(14)11(6)2/h4H,1-3H3', 'url': 'http://www.drugbank.ca/drugs/DB00201'}}\n",
      "There are 1552 Compound\n",
      "Example of Disease: {'kind': 'Disease', 'identifier': 'DOID:14227', 'name': 'azoospermia', 'data': {'source': 'Disease Ontology', 'license': 'CC BY 3.0', 'url': 'http://purl.obolibrary.org/obo/DOID_14227'}}\n",
      "There are 137 Disease\n",
      "Example of Gene: {'kind': 'Gene', 'identifier': 5345, 'name': 'SERPINF2', 'data': {'description': 'serpin peptidase inhibitor, clade F (alpha-2 antiplasmin, pigment epithelium derived factor), member 2', 'source': 'Entrez Gene', 'license': 'CC0 1.0', 'url': 'http://identifiers.org/ncbigene/5345', 'chromosome': '17'}}\n",
      "There are 20945 Gene\n",
      "Example of Molecular Function: {'kind': 'Molecular Function', 'identifier': 'GO:0031753', 'name': 'endothelial differentiation G-protein coupled receptor binding', 'data': {'source': 'Gene Ontology', 'license': 'CC BY 4.0', 'url': 'http://purl.obolibrary.org/obo/GO_0031753'}}\n",
      "There are 2884 Molecular Function\n",
      "Example of Pathway: {'kind': 'Pathway', 'identifier': 'PC7_3805', 'name': 'FCERI mediated Ca+2 mobilization', 'data': {'license': 'CC BY 4.0', 'source': 'Reactome via Pathway Commons'}}\n",
      "There are 1822 Pathway\n",
      "Example of Pharmacologic Class: {'kind': 'Pharmacologic Class', 'identifier': 'N0000007632', 'name': 'Thyroxine', 'data': {'class_type': 'Chemical/Ingredient', 'source': 'FDA via DrugCentral', 'license': 'CC BY 4.0', 'url': 'http://purl.bioontology.org/ontology/NDFRT/N0000007632'}}\n",
      "There are 345 Pharmacologic Class\n",
      "Example of Side Effect: {'kind': 'Side Effect', 'identifier': 'C0023448', 'name': 'Lymphocytic leukaemia', 'data': {'source': 'UMLS via SIDER 4.1', 'license': 'CC BY-NC-SA 4.0', 'url': 'http://identifiers.org/umls/C0023448'}}\n",
      "There are 5734 Side Effect\n",
      "Example of Symptom: {'kind': 'Symptom', 'identifier': 'D020150', 'name': 'Chorea Gravidarum', 'data': {'source': 'MeSH', 'license': 'CC0 1.0', 'url': 'http://identifiers.org/mesh/D020150'}}\n",
      "There are 438 Symptom\n"
     ]
    }
   ],
   "source": [
    "for t in node_type:\n",
    "    l=[i for i in nodes if i['kind']==t]\n",
    "    n = len(l)\n",
    "    print (f'Example of {t}: {l[0]}')\n",
    "    print (f'There are {n} {t}')"
   ]
  },
  {
   "cell_type": "code",
   "execution_count": 22,
   "metadata": {},
   "outputs": [
    {
     "data": {
      "text/plain": [
       "{'data': {'license': 'CC BY 4.0', 'sources': ['TISSUES'], 'unbiased': True},\n",
       " 'direction': 'both',\n",
       " 'kind': 'expresses',\n",
       " 'source_id': ['Anatomy', 'UBERON:0002368'],\n",
       " 'target_id': ['Gene', 51649]}"
      ]
     },
     "execution_count": 22,
     "metadata": {},
     "output_type": "execute_result"
    }
   ],
   "source": [
    "edges[1500]"
   ]
  },
  {
   "cell_type": "code",
   "execution_count": 12,
   "metadata": {},
   "outputs": [],
   "source": [
    "from collections import Counter, defaultdict\n",
    "metaedge_list = []\n",
    "for edge in edge_type:\n",
    "    name = str(edge[0] + \" \" + edge[1] + \" \" + edge[2] + \" \" + edge[3])\n",
    "    metaedge_list.append(name)\n",
    "    \n",
    "hyperedges = defaultdict(list)\n",
    "\n",
    "for i,metaedge in enumerate(edge_type):\n",
    "    for edge in edges:\n",
    "        source_id = metaedge[0]\n",
    "        target_id = metaedge[1]\n",
    "        kind = metaedge[2]\n",
    "        direction = metaedge[3]\n",
    "        if source_id == edge[\"source_id\"][0]:\n",
    "            if target_id == edge[\"target_id\"][0]:\n",
    "                if kind == edge[\"kind\"]:\n",
    "                    atuple = (edge[\"source_id\"][1], edge[\"target_id\"][1])\n",
    "                    hyperedges[metaedge_list[i]].append(atuple)  "
   ]
  },
  {
   "cell_type": "code",
   "execution_count": 19,
   "metadata": {},
   "outputs": [
    {
     "data": {
      "text/plain": [
       "['102240 Anatomy Gene downregulates both.',\n",
       " '526407 Anatomy Gene expresses both.',\n",
       " '97848 Anatomy Gene upregulates both.',\n",
       " '6486 Compound Compound resembles both.',\n",
       " '390 Compound Disease palliates both.',\n",
       " '755 Compound Disease treats both.',\n",
       " '11571 Compound Gene binds both.',\n",
       " '21102 Compound Gene downregulates both.',\n",
       " '18756 Compound Gene upregulates both.',\n",
       " '138944 Compound Side Effect causes both.',\n",
       " '3602 Disease Anatomy localizes both.',\n",
       " '543 Disease Disease resembles both.',\n",
       " '12623 Disease Gene associates both.',\n",
       " '7623 Disease Gene downregulates both.',\n",
       " '7731 Disease Gene upregulates both.',\n",
       " '3357 Disease Symptom presents both.',\n",
       " '559504 Gene Biological Process participates both.',\n",
       " '73566 Gene Cellular Component participates both.',\n",
       " '61690 Gene Gene covaries both.',\n",
       " '147164 Gene Gene interacts both.',\n",
       " '265672 Gene Gene regulates forward.',\n",
       " '97222 Gene Molecular Function participates both.',\n",
       " '84372 Gene Pathway participates both.',\n",
       " '1029 Pharmacologic Class Compound includes both.']"
      ]
     },
     "execution_count": 19,
     "metadata": {},
     "output_type": "execute_result"
    }
   ],
   "source": [
    "[f'{len(values)} {key}.' for key, values in hyperedges.items() ]"
   ]
  }
 ],
 "metadata": {
  "kernelspec": {
   "display_name": "Python 3",
   "language": "python",
   "name": "python3"
  },
  "language_info": {
   "codemirror_mode": {
    "name": "ipython",
    "version": 3
   },
   "file_extension": ".py",
   "mimetype": "text/x-python",
   "name": "python",
   "nbconvert_exporter": "python",
   "pygments_lexer": "ipython3",
   "version": "3.6.3"
  }
 },
 "nbformat": 4,
 "nbformat_minor": 2
}
